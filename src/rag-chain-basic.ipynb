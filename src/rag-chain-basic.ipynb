{
 "cells": [
  {
   "cell_type": "code",
   "execution_count": 1,
   "id": "f6c43d5a-59fb-42a5-b5ed-04fabe0b151b",
   "metadata": {},
   "outputs": [],
   "source": [
    "from langchain_chroma import Chroma\n",
    "from langchain_community.llms import Ollama\n",
    "from langchain_community.document_loaders import PyPDFLoader, PyPDFDirectoryLoader\n",
    "from langchain.text_splitter import RecursiveCharacterTextSplitter\n",
    "from langchain_community.embeddings import GPT4AllEmbeddings\n",
    "from langchain_core.runnables import RunnablePassthrough\n",
    "from langchain_core.output_parsers import StrOutputParser"
   ]
  },
  {
   "cell_type": "code",
   "execution_count": 2,
   "id": "22a43c43-1545-4e69-be6f-45306641ad8c",
   "metadata": {},
   "outputs": [],
   "source": [
    "PDF_PATH = 'data/fundamentals-of-foodnutrition-and-diet-therapy.pdf'\n",
    "\n",
    "\n",
    "loader = PyPDFLoader(PDF_PATH)\n",
    "data = loader.load()\n",
    "\n",
    "# Split your data up into smaller documents with Chunks\n",
    "text_splitter = RecursiveCharacterTextSplitter(chunk_size=1000, chunk_overlap=0)\n",
    "splits = text_splitter.split_documents(data)"
   ]
  },
  {
   "cell_type": "code",
   "execution_count": 3,
   "id": "528db373-4ddb-40ec-b73d-59f1f867bfa5",
   "metadata": {},
   "outputs": [
    {
     "data": {
      "text/plain": [
       "<langchain_chroma.vectorstores.Chroma at 0x136430250>"
      ]
     },
     "execution_count": 3,
     "metadata": {},
     "output_type": "execute_result"
    }
   ],
   "source": [
    "# create a Chroma vector store\n",
    "vector_store = Chroma.from_documents(documents=splits, embedding=GPT4AllEmbeddings())\n",
    "vector_store"
   ]
  },
  {
   "cell_type": "code",
   "execution_count": 4,
   "id": "b6b4d37b-d241-4f3b-9f17-7de3a57258ae",
   "metadata": {},
   "outputs": [
    {
     "data": {
      "text/plain": [
       "VectorStoreRetriever(tags=['Chroma', 'GPT4AllEmbeddings'], vectorstore=<langchain_chroma.vectorstores.Chroma object at 0x136430250>)"
      ]
     },
     "execution_count": 4,
     "metadata": {},
     "output_type": "execute_result"
    }
   ],
   "source": [
    "retriever = vector_store.as_retriever()\n",
    "retriever"
   ]
  },
  {
   "cell_type": "code",
   "execution_count": 5,
   "id": "83698f23-449c-42d1-a7d1-0872d1918f76",
   "metadata": {},
   "outputs": [],
   "source": [
    "# Prompt\n",
    "prompt = hub.pull(\"rlm/rag-prompt\")"
   ]
  },
  {
   "cell_type": "code",
   "execution_count": 6,
   "id": "afc7766a-d6c2-4e25-8c92-d7e3dbaa4d6a",
   "metadata": {},
   "outputs": [],
   "source": [
    "# Ollama LLM\n",
    "llm = Ollama(model='llama3')"
   ]
  },
  {
   "cell_type": "code",
   "execution_count": 7,
   "id": "7662abb3-69e1-4af3-8de5-940ef57de54d",
   "metadata": {},
   "outputs": [],
   "source": [
    "# Create a RAG Chain\n",
    "rag_chain = (\n",
    "    {\"context\": retriever, \"question\": RunnablePassthrough()}\n",
    "    | prompt\n",
    "    | llm\n",
    "    | StrOutputParser()\n",
    ")"
   ]
  },
  {
   "cell_type": "code",
   "execution_count": 8,
   "id": "3798eb82-304f-442c-95ab-320766bf5b62",
   "metadata": {},
   "outputs": [
    {
     "name": "stdout",
     "output_type": "stream",
     "text": [
      "Parenteral or enteral nutrition may be necessary in the early stages to meet the needs of the patient. Cancer patients require special attention and diet plans should include favourite foods, prepared in familiar ways and served attractively. The nutritional status of the patient improves after chemotherapy, and energy demands can increase due to a hypermetabolic state, requiring 45-50 kcal/kg body weight and adequate carbohydrates and fats to provide energy while sparing protein for tissue building and immune system function.\n"
     ]
    }
   ],
   "source": [
    "# invoke the chain with a query\n",
    "print(rag_chain.invoke('nutrition for cancer'))"
   ]
  }
 ],
 "metadata": {
  "kernelspec": {
   "display_name": "Python 3 (ipykernel)",
   "language": "python",
   "name": "python3"
  },
  "language_info": {
   "codemirror_mode": {
    "name": "ipython",
    "version": 3
   },
   "file_extension": ".py",
   "mimetype": "text/x-python",
   "name": "python",
   "nbconvert_exporter": "python",
   "pygments_lexer": "ipython3",
   "version": "3.9.19"
  }
 },
 "nbformat": 4,
 "nbformat_minor": 5
}
